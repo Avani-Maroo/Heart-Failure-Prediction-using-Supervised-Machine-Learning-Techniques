{
 "cells": [
  {
   "cell_type": "code",
   "execution_count": 1,
   "id": "45df6839",
   "metadata": {},
   "outputs": [
    {
     "data": {
      "text/html": [
       "<div>\n",
       "<style scoped>\n",
       "    .dataframe tbody tr th:only-of-type {\n",
       "        vertical-align: middle;\n",
       "    }\n",
       "\n",
       "    .dataframe tbody tr th {\n",
       "        vertical-align: top;\n",
       "    }\n",
       "\n",
       "    .dataframe thead th {\n",
       "        text-align: right;\n",
       "    }\n",
       "</style>\n",
       "<table border=\"1\" class=\"dataframe\">\n",
       "  <thead>\n",
       "    <tr style=\"text-align: right;\">\n",
       "      <th></th>\n",
       "      <th>age</th>\n",
       "      <th>anaemia</th>\n",
       "      <th>creatinine_phosphokinase</th>\n",
       "      <th>diabetes</th>\n",
       "      <th>ejection_fraction</th>\n",
       "      <th>high_blood_pressure</th>\n",
       "      <th>platelets</th>\n",
       "      <th>serum_creatinine</th>\n",
       "      <th>serum_sodium</th>\n",
       "      <th>sex</th>\n",
       "      <th>smoking</th>\n",
       "      <th>time</th>\n",
       "      <th>DEATH_EVENT</th>\n",
       "    </tr>\n",
       "  </thead>\n",
       "  <tbody>\n",
       "    <tr>\n",
       "      <th>0</th>\n",
       "      <td>75.0</td>\n",
       "      <td>0</td>\n",
       "      <td>582</td>\n",
       "      <td>0</td>\n",
       "      <td>20</td>\n",
       "      <td>1</td>\n",
       "      <td>265000.00</td>\n",
       "      <td>1.9</td>\n",
       "      <td>130</td>\n",
       "      <td>1</td>\n",
       "      <td>0</td>\n",
       "      <td>4</td>\n",
       "      <td>1</td>\n",
       "    </tr>\n",
       "    <tr>\n",
       "      <th>1</th>\n",
       "      <td>55.0</td>\n",
       "      <td>0</td>\n",
       "      <td>7861</td>\n",
       "      <td>0</td>\n",
       "      <td>38</td>\n",
       "      <td>0</td>\n",
       "      <td>263358.03</td>\n",
       "      <td>1.1</td>\n",
       "      <td>136</td>\n",
       "      <td>1</td>\n",
       "      <td>0</td>\n",
       "      <td>6</td>\n",
       "      <td>1</td>\n",
       "    </tr>\n",
       "    <tr>\n",
       "      <th>2</th>\n",
       "      <td>65.0</td>\n",
       "      <td>0</td>\n",
       "      <td>146</td>\n",
       "      <td>0</td>\n",
       "      <td>20</td>\n",
       "      <td>0</td>\n",
       "      <td>162000.00</td>\n",
       "      <td>1.3</td>\n",
       "      <td>129</td>\n",
       "      <td>1</td>\n",
       "      <td>1</td>\n",
       "      <td>7</td>\n",
       "      <td>1</td>\n",
       "    </tr>\n",
       "    <tr>\n",
       "      <th>3</th>\n",
       "      <td>50.0</td>\n",
       "      <td>1</td>\n",
       "      <td>111</td>\n",
       "      <td>0</td>\n",
       "      <td>20</td>\n",
       "      <td>0</td>\n",
       "      <td>210000.00</td>\n",
       "      <td>1.9</td>\n",
       "      <td>137</td>\n",
       "      <td>1</td>\n",
       "      <td>0</td>\n",
       "      <td>7</td>\n",
       "      <td>1</td>\n",
       "    </tr>\n",
       "    <tr>\n",
       "      <th>4</th>\n",
       "      <td>65.0</td>\n",
       "      <td>1</td>\n",
       "      <td>160</td>\n",
       "      <td>1</td>\n",
       "      <td>20</td>\n",
       "      <td>0</td>\n",
       "      <td>327000.00</td>\n",
       "      <td>2.7</td>\n",
       "      <td>116</td>\n",
       "      <td>0</td>\n",
       "      <td>0</td>\n",
       "      <td>8</td>\n",
       "      <td>1</td>\n",
       "    </tr>\n",
       "    <tr>\n",
       "      <th>...</th>\n",
       "      <td>...</td>\n",
       "      <td>...</td>\n",
       "      <td>...</td>\n",
       "      <td>...</td>\n",
       "      <td>...</td>\n",
       "      <td>...</td>\n",
       "      <td>...</td>\n",
       "      <td>...</td>\n",
       "      <td>...</td>\n",
       "      <td>...</td>\n",
       "      <td>...</td>\n",
       "      <td>...</td>\n",
       "      <td>...</td>\n",
       "    </tr>\n",
       "    <tr>\n",
       "      <th>294</th>\n",
       "      <td>62.0</td>\n",
       "      <td>0</td>\n",
       "      <td>61</td>\n",
       "      <td>1</td>\n",
       "      <td>38</td>\n",
       "      <td>1</td>\n",
       "      <td>155000.00</td>\n",
       "      <td>1.1</td>\n",
       "      <td>143</td>\n",
       "      <td>1</td>\n",
       "      <td>1</td>\n",
       "      <td>270</td>\n",
       "      <td>0</td>\n",
       "    </tr>\n",
       "    <tr>\n",
       "      <th>295</th>\n",
       "      <td>55.0</td>\n",
       "      <td>0</td>\n",
       "      <td>1820</td>\n",
       "      <td>0</td>\n",
       "      <td>38</td>\n",
       "      <td>0</td>\n",
       "      <td>270000.00</td>\n",
       "      <td>1.2</td>\n",
       "      <td>139</td>\n",
       "      <td>0</td>\n",
       "      <td>0</td>\n",
       "      <td>271</td>\n",
       "      <td>0</td>\n",
       "    </tr>\n",
       "    <tr>\n",
       "      <th>296</th>\n",
       "      <td>45.0</td>\n",
       "      <td>0</td>\n",
       "      <td>2060</td>\n",
       "      <td>1</td>\n",
       "      <td>60</td>\n",
       "      <td>0</td>\n",
       "      <td>742000.00</td>\n",
       "      <td>0.8</td>\n",
       "      <td>138</td>\n",
       "      <td>0</td>\n",
       "      <td>0</td>\n",
       "      <td>278</td>\n",
       "      <td>0</td>\n",
       "    </tr>\n",
       "    <tr>\n",
       "      <th>297</th>\n",
       "      <td>45.0</td>\n",
       "      <td>0</td>\n",
       "      <td>2413</td>\n",
       "      <td>0</td>\n",
       "      <td>38</td>\n",
       "      <td>0</td>\n",
       "      <td>140000.00</td>\n",
       "      <td>1.4</td>\n",
       "      <td>140</td>\n",
       "      <td>1</td>\n",
       "      <td>1</td>\n",
       "      <td>280</td>\n",
       "      <td>0</td>\n",
       "    </tr>\n",
       "    <tr>\n",
       "      <th>298</th>\n",
       "      <td>50.0</td>\n",
       "      <td>0</td>\n",
       "      <td>196</td>\n",
       "      <td>0</td>\n",
       "      <td>45</td>\n",
       "      <td>0</td>\n",
       "      <td>395000.00</td>\n",
       "      <td>1.6</td>\n",
       "      <td>136</td>\n",
       "      <td>1</td>\n",
       "      <td>1</td>\n",
       "      <td>285</td>\n",
       "      <td>0</td>\n",
       "    </tr>\n",
       "  </tbody>\n",
       "</table>\n",
       "<p>299 rows × 13 columns</p>\n",
       "</div>"
      ],
      "text/plain": [
       "      age  anaemia  creatinine_phosphokinase  diabetes  ejection_fraction  \\\n",
       "0    75.0        0                       582         0                 20   \n",
       "1    55.0        0                      7861         0                 38   \n",
       "2    65.0        0                       146         0                 20   \n",
       "3    50.0        1                       111         0                 20   \n",
       "4    65.0        1                       160         1                 20   \n",
       "..    ...      ...                       ...       ...                ...   \n",
       "294  62.0        0                        61         1                 38   \n",
       "295  55.0        0                      1820         0                 38   \n",
       "296  45.0        0                      2060         1                 60   \n",
       "297  45.0        0                      2413         0                 38   \n",
       "298  50.0        0                       196         0                 45   \n",
       "\n",
       "     high_blood_pressure  platelets  serum_creatinine  serum_sodium  sex  \\\n",
       "0                      1  265000.00               1.9           130    1   \n",
       "1                      0  263358.03               1.1           136    1   \n",
       "2                      0  162000.00               1.3           129    1   \n",
       "3                      0  210000.00               1.9           137    1   \n",
       "4                      0  327000.00               2.7           116    0   \n",
       "..                   ...        ...               ...           ...  ...   \n",
       "294                    1  155000.00               1.1           143    1   \n",
       "295                    0  270000.00               1.2           139    0   \n",
       "296                    0  742000.00               0.8           138    0   \n",
       "297                    0  140000.00               1.4           140    1   \n",
       "298                    0  395000.00               1.6           136    1   \n",
       "\n",
       "     smoking  time  DEATH_EVENT  \n",
       "0          0     4            1  \n",
       "1          0     6            1  \n",
       "2          1     7            1  \n",
       "3          0     7            1  \n",
       "4          0     8            1  \n",
       "..       ...   ...          ...  \n",
       "294        1   270            0  \n",
       "295        0   271            0  \n",
       "296        0   278            0  \n",
       "297        1   280            0  \n",
       "298        1   285            0  \n",
       "\n",
       "[299 rows x 13 columns]"
      ]
     },
     "execution_count": 1,
     "metadata": {},
     "output_type": "execute_result"
    }
   ],
   "source": [
    "#Uploading the Dataset and converting it into a DataFrame\n",
    "import pandas as pd\n",
    "df = pd.read_csv(\"heart_failure_clinical_records_dataset.csv\")\n",
    "df"
   ]
  },
  {
   "cell_type": "code",
   "execution_count": 31,
   "id": "d2890e6e",
   "metadata": {},
   "outputs": [],
   "source": [
    "#Importing relevant libraries\n",
    "import numpy as np\n",
    "import itertools\n",
    "import matplotlib.pyplot as plt\n",
    "import seaborn as sns\n",
    "from sklearn.preprocessing import StandardScaler\n",
    "from sklearn import preprocessing\n",
    "from sklearn.model_selection import StratifiedKFold, KFold\n",
    "from sklearn.svm import SVC\n",
    "from sklearn import metrics\n",
    "from sklearn.metrics import confusion_matrix\n",
    "from mlxtend.plotting import plot_confusion_matrix\n",
    "from statistics import mean, stdev\n",
    "from sklearn.feature_selection import SelectKBest, chi2\n",
    "from sklearn.feature_selection import f_classif\n",
    "from sklearn.linear_model import LogisticRegression \n",
    "from sklearn.neighbors import KNeighborsClassifier\n",
    "from sklearn.ensemble import AdaBoostClassifier"
   ]
  },
  {
   "cell_type": "code",
   "execution_count": 3,
   "id": "b00d9263",
   "metadata": {},
   "outputs": [],
   "source": [
    "data = df.values\n",
    "                       \n",
    "features = ['age','anaemia','creatinine_phosphokinase','diabetes','ejection_fraction','high_blood_pressure','platelets','serum_creatinine','serum_sodium','sex','smoking','time' ]\n",
    "categorical_features = ['anaemia','diabetes','high_blood_pressure','sex','smoking']\n",
    "numerical_features = ['age','creatinine_phosphokinase','ejection_fraction','platelets','serum_creatinine','serum_sodium','time']\n",
    "x = df.loc[:,features].values\n",
    "y = df.loc[:, ['DEATH_EVENT']].values\n",
    "y = np.ravel(y)"
   ]
  },
  {
   "cell_type": "markdown",
   "id": "5f5c572d",
   "metadata": {},
   "source": [
    "## Normalizing the Data"
   ]
  },
  {
   "cell_type": "code",
   "execution_count": 4,
   "id": "55c76b5c",
   "metadata": {},
   "outputs": [],
   "source": [
    "scaler = preprocessing.MinMaxScaler()\n",
    "x_scaled = scaler.fit_transform(x)"
   ]
  },
  {
   "cell_type": "markdown",
   "id": "f72a7654",
   "metadata": {},
   "source": [
    "## Introducing Stratified K - Fold Cross Validation "
   ]
  },
  {
   "cell_type": "code",
   "execution_count": 6,
   "id": "b3b23844",
   "metadata": {},
   "outputs": [],
   "source": [
    "skf = StratifiedKFold(n_splits=5)"
   ]
  },
  {
   "cell_type": "markdown",
   "id": "ce900b9a",
   "metadata": {},
   "source": [
    "# SVM - RBF Kernel"
   ]
  },
  {
   "cell_type": "code",
   "execution_count": 7,
   "id": "bab2a60c",
   "metadata": {},
   "outputs": [
    {
     "data": {
      "text/plain": [
       "(<Figure size 864x576 with 1 Axes>,\n",
       " <AxesSubplot:xlabel='predicted label', ylabel='true label'>)"
      ]
     },
     "execution_count": 7,
     "metadata": {},
     "output_type": "execute_result"
    },
    {
     "data": {
      "text/plain": [
       "<Figure size 432x288 with 0 Axes>"
      ]
     },
     "metadata": {},
     "output_type": "display_data"
    },
    {
     "data": {
      "image/png": "[encoded data removed]",
      "text/plain": [
       "<Figure size 864x576 with 1 Axes>"
      ]
     },
     "metadata": {},
     "output_type": "display_data"
    }
   ],
   "source": [
    "#Driver code: We perform cross validation, and print the confusion matrix\n",
    "lst_accu_stratified = []\n",
    "cm_sum = []\n",
    "StratifiedKFold(n_splits=5, random_state=1, shuffle=True)\n",
    "for train_index, test_index in skf.split(x, y):\n",
    "  x_train, x_test = x_scaled[train_index], x_scaled[test_index]\n",
    "  y_train, y_test = y[train_index], y[test_index]\n",
    "  support_vector_machine = SVC(kernel = \"rbf\")\n",
    "  support_vector_machine.fit(x_train,y_train)\n",
    "  target_prediction = support_vector_machine.predict(x_test)\n",
    "  lst_accu_stratified.append(support_vector_machine.score(x_test, y_test))\n",
    "  cm = confusion_matrix(y_test, target_prediction)\n",
    "  cm_sum.append(cm)\n",
    "m = sum(cm_sum)\n",
    "plt.figure()\n",
    "plot_confusion_matrix(m, figsize=(12,8), hide_ticks=True, cmap=plt.cm.Reds)"
   ]
  },
  {
   "cell_type": "code",
   "execution_count": 17,
   "id": "cc19bbd3",
   "metadata": {},
   "outputs": [
    {
     "name": "stdout",
     "output_type": "stream",
     "text": [
      "List of possible accuracies: [0.65, 0.7666666666666667, 0.8833333333333333, 0.8, 0.6779661016949152]\n",
      "\n",
      "Maximum Accuracy that can be obtained from this model is: 88.33333333333333 %\n",
      "\n",
      "Minimum Accuracy: 65.0 %\n",
      "\n",
      "Overall Accuracy: 75.5593220338983 %\n",
      "\n",
      "Standard Deviation is: 0.09432393319272259\n"
     ]
    }
   ],
   "source": [
    "print('List of possible accuracies:', lst_accu_stratified)\n",
    "print('\\nMaximum Accuracy that can be obtained from this model is:',\n",
    "      max(lst_accu_stratified)*100, '%')\n",
    "print('\\nMinimum Accuracy:',\n",
    "      min(lst_accu_stratified)*100, '%')\n",
    "print('\\nOverall Accuracy:',\n",
    "      mean(lst_accu_stratified)*100, '%')\n",
    "print('\\nStandard Deviation is:', stdev(lst_accu_stratified))"
   ]
  },
  {
   "cell_type": "code",
   "execution_count": 11,
   "id": "9046050f",
   "metadata": {},
   "outputs": [
    {
     "name": "stdout",
     "output_type": "stream",
     "text": [
      "['x4' 'x7' 'x11']\n",
      "[False False False False  True False False  True False False False  True]\n"
     ]
    },
    {
     "data": {
      "text/plain": [
       "(299, 3)"
      ]
     },
     "execution_count": 11,
     "metadata": {},
     "output_type": "execute_result"
    }
   ],
   "source": [
    "#Printing the Best Features\n",
    "selector = SelectKBest(f_classif, k = 3)\n",
    "x_new = selector.fit_transform(x, y)\n",
    "names = selector.get_feature_names_out()\n",
    "names_1 = selector.get_support()\n",
    "print(names)\n",
    "print(names_1)\n",
    "x_new.shape"
   ]
  },
  {
   "cell_type": "markdown",
   "id": "ec453de9",
   "metadata": {},
   "source": [
    "# SVM - Linear Kernel"
   ]
  },
  {
   "cell_type": "code",
   "execution_count": 12,
   "id": "06a6e39b",
   "metadata": {},
   "outputs": [
    {
     "data": {
      "text/plain": [
       "(<Figure size 864x576 with 1 Axes>,\n",
       " <AxesSubplot:xlabel='predicted label', ylabel='true label'>)"
      ]
     },
     "execution_count": 12,
     "metadata": {},
     "output_type": "execute_result"
    },
    {
     "data": {
      "text/plain": [
       "<Figure size 432x288 with 0 Axes>"
      ]
     },
     "metadata": {},
     "output_type": "display_data"
    },
    {
     "data": {
      "image/png": "[encoded data removed]",
      "text/plain": [
       "<Figure size 864x576 with 1 Axes>"
      ]
     },
     "metadata": {},
     "output_type": "display_data"
    }
   ],
   "source": [
    "#Driver code: We perform cross validation, and print the confusion matrix\n",
    "lst_accu_stratified = []\n",
    "cm_sum = []\n",
    "StratifiedKFold(n_splits=5, random_state=1, shuffle=True)\n",
    "for train_index, test_index in skf.split(x, y):\n",
    "  x_train, x_test = x_scaled[train_index], x_scaled[test_index]\n",
    "  y_train, y_test = y[train_index], y[test_index]\n",
    "  support_vector_machine = SVC(kernel = \"linear\")\n",
    "  support_vector_machine.fit(x_train,y_train)\n",
    "  target_prediction = support_vector_machine.predict(x_test)\n",
    "  lst_accu_stratified.append(support_vector_machine.score(x_test, y_test))\n",
    "  cm = confusion_matrix(y_test, target_prediction)\n",
    "  cm_sum.append(cm)\n",
    "m = sum(cm_sum)\n",
    "plt.figure()\n",
    "plot_confusion_matrix(m, figsize=(12,8), hide_ticks=True, cmap=plt.cm.Reds)"
   ]
  },
  {
   "cell_type": "code",
   "execution_count": 15,
   "id": "bf49e8d0",
   "metadata": {},
   "outputs": [
    {
     "name": "stdout",
     "output_type": "stream",
     "text": [
      "List of possible accuracies: [0.65, 0.7666666666666667, 0.8833333333333333, 0.8, 0.6779661016949152]\n",
      "\n",
      "Maximum Accuracy that can be obtained from this model is: 88.33333333333333 %\n",
      "\n",
      "Minimum Accuracy: 65.0 %\n",
      "\n",
      "Overall Accuracy: 75.5593220338983 %\n",
      "\n",
      "Standard Deviation is: 0.09432393319272259\n"
     ]
    }
   ],
   "source": [
    "print('List of possible accuracies:', lst_accu_stratified)\n",
    "print('\\nMaximum Accuracy that can be obtained from this model is:',\n",
    "      max(lst_accu_stratified)*100, '%')\n",
    "print('\\nMinimum Accuracy:',\n",
    "      min(lst_accu_stratified)*100, '%')\n",
    "print('\\nOverall Accuracy:',\n",
    "      mean(lst_accu_stratified)*100, '%')\n",
    "print('\\nStandard Deviation is:', stdev(lst_accu_stratified))"
   ]
  },
  {
   "cell_type": "code",
   "execution_count": 16,
   "id": "e76cff89",
   "metadata": {},
   "outputs": [
    {
     "name": "stdout",
     "output_type": "stream",
     "text": [
      "['x4' 'x7' 'x11']\n",
      "[False False False False  True False False  True False False False  True]\n"
     ]
    },
    {
     "data": {
      "text/plain": [
       "(299, 3)"
      ]
     },
     "execution_count": 16,
     "metadata": {},
     "output_type": "execute_result"
    }
   ],
   "source": [
    "#Printing the Best Features\n",
    "selector = SelectKBest(f_classif, k = 3)\n",
    "x_new = selector.fit_transform(x, y)\n",
    "names = selector.get_feature_names_out()\n",
    "names_1 = selector.get_support()\n",
    "print(names)\n",
    "print(names_1)\n",
    "x_new.shape"
   ]
  },
  {
   "cell_type": "markdown",
   "id": "6c64561c",
   "metadata": {},
   "source": [
    "# SVM - Polynomial Kernel"
   ]
  },
  {
   "cell_type": "code",
   "execution_count": 18,
   "id": "ea44344a",
   "metadata": {},
   "outputs": [
    {
     "data": {
      "text/plain": [
       "(<Figure size 864x576 with 1 Axes>,\n",
       " <AxesSubplot:xlabel='predicted label', ylabel='true label'>)"
      ]
     },
     "execution_count": 18,
     "metadata": {},
     "output_type": "execute_result"
    },
    {
     "data": {
      "text/plain": [
       "<Figure size 432x288 with 0 Axes>"
      ]
     },
     "metadata": {},
     "output_type": "display_data"
    },
    {
     "data": {
      "image/png": "[encoded data removed]",
      "text/plain": [
       "<Figure size 864x576 with 1 Axes>"
      ]
     },
     "metadata": {},
     "output_type": "display_data"
    }
   ],
   "source": [
    "#Driver code: We perform cross validation, and print the confusion matrix\n",
    "lst_accu_stratified = []\n",
    "cm_sum = []\n",
    "StratifiedKFold(n_splits=5, random_state=1, shuffle=True)\n",
    "for train_index, test_index in skf.split(x, y):\n",
    "  x_train, x_test = x_scaled[train_index], x_scaled[test_index]\n",
    "  y_train, y_test = y[train_index], y[test_index]\n",
    "  support_vector_machine = SVC(kernel = \"poly\")\n",
    "  support_vector_machine.fit(x_train,y_train)\n",
    "  target_prediction = support_vector_machine.predict(x_test)\n",
    "  lst_accu_stratified.append(support_vector_machine.score(x_test, y_test))\n",
    "  cm = confusion_matrix(y_test, target_prediction)\n",
    "  cm_sum.append(cm)\n",
    "m = sum(cm_sum)\n",
    "plt.figure()\n",
    "plot_confusion_matrix(m, figsize=(12,8), hide_ticks=True, cmap=plt.cm.Reds)"
   ]
  },
  {
   "cell_type": "code",
   "execution_count": 19,
   "id": "f7febc47",
   "metadata": {},
   "outputs": [
    {
     "name": "stdout",
     "output_type": "stream",
     "text": [
      "List of possible accuracies: [0.65, 0.7833333333333333, 0.75, 0.7666666666666667, 0.6779661016949152]\n",
      "\n",
      "Maximum Accuracy that can be obtained from this model is: 78.33333333333333 %\n",
      "\n",
      "Minimum Accuracy: 65.0 %\n",
      "\n",
      "Overall Accuracy: 72.55932203389831 %\n",
      "\n",
      "Standard Deviation is: 0.05830805460399324\n"
     ]
    }
   ],
   "source": [
    "print('List of possible accuracies:', lst_accu_stratified)\n",
    "print('\\nMaximum Accuracy that can be obtained from this model is:',\n",
    "      max(lst_accu_stratified)*100, '%')\n",
    "print('\\nMinimum Accuracy:',\n",
    "      min(lst_accu_stratified)*100, '%')\n",
    "print('\\nOverall Accuracy:',\n",
    "      mean(lst_accu_stratified)*100, '%')\n",
    "print('\\nStandard Deviation is:', stdev(lst_accu_stratified))"
   ]
  },
  {
   "cell_type": "code",
   "execution_count": 20,
   "id": "0fa80376",
   "metadata": {},
   "outputs": [
    {
     "name": "stdout",
     "output_type": "stream",
     "text": [
      "['x4' 'x7' 'x11']\n",
      "[False False False False  True False False  True False False False  True]\n"
     ]
    },
    {
     "data": {
      "text/plain": [
       "(299, 3)"
      ]
     },
     "execution_count": 20,
     "metadata": {},
     "output_type": "execute_result"
    }
   ],
   "source": [
    "#Printing the Best Features\n",
    "selector = SelectKBest(f_classif, k = 3)\n",
    "x_new = selector.fit_transform(x, y)\n",
    "names = selector.get_feature_names_out()\n",
    "names_1 = selector.get_support()\n",
    "print(names)\n",
    "print(names_1)\n",
    "x_new.shape"
   ]
  },
  {
   "cell_type": "markdown",
   "id": "e9d395b7",
   "metadata": {},
   "source": [
    "# Logistic Regression"
   ]
  },
  {
   "cell_type": "code",
   "execution_count": 23,
   "id": "fd5dea88",
   "metadata": {},
   "outputs": [
    {
     "data": {
      "text/plain": [
       "(<Figure size 864x576 with 1 Axes>,\n",
       " <AxesSubplot:xlabel='predicted label', ylabel='true label'>)"
      ]
     },
     "execution_count": 23,
     "metadata": {},
     "output_type": "execute_result"
    },
    {
     "data": {
      "text/plain": [
       "<Figure size 432x288 with 0 Axes>"
      ]
     },
     "metadata": {},
     "output_type": "display_data"
    },
    {
     "data": {
      "image/png": "[encoded data removed]",
      "text/plain": [
       "<Figure size 864x576 with 1 Axes>"
      ]
     },
     "metadata": {},
     "output_type": "display_data"
    }
   ],
   "source": [
    "#Driver code: We perform cross validation, and print the confusion matrix\n",
    "lst_accu_stratified = []\n",
    "cm_sum = []\n",
    "StratifiedKFold(n_splits=5, random_state=1, shuffle=True)\n",
    "for train_index, test_index in skf.split(x, y):\n",
    "  x_train, x_test = x_scaled[train_index], x_scaled[test_index]\n",
    "  y_train, y_test = y[train_index], y[test_index]\n",
    "  clf = LogisticRegression(random_state=1).fit(x_train, y_train)\n",
    "  target_prediction = clf.predict(x_test)\n",
    "  lst_accu_stratified.append(clf.score(x_test, y_test))\n",
    "  cm = confusion_matrix(y_test, target_prediction)\n",
    "  cm_sum.append(cm)\n",
    "m = sum(cm_sum)\n",
    "plt.figure()\n",
    "plot_confusion_matrix(m, figsize=(12,8), hide_ticks=True, cmap=plt.cm.Reds)"
   ]
  },
  {
   "cell_type": "code",
   "execution_count": 24,
   "id": "18729bd4",
   "metadata": {},
   "outputs": [
    {
     "name": "stdout",
     "output_type": "stream",
     "text": [
      "List of possible accuracies: [0.7166666666666667, 0.8833333333333333, 0.8666666666666667, 0.8, 0.6779661016949152]\n",
      "\n",
      "Maximum Accuracy that can be obtained from this model is: 88.33333333333333 %\n",
      "\n",
      "Minimum Accuracy: 67.79661016949152 %\n",
      "\n",
      "Overall Accuracy: 78.89265536723164 %\n",
      "\n",
      "Standard Deviation is: 0.09029465598944471\n"
     ]
    }
   ],
   "source": [
    "print('List of possible accuracies:', lst_accu_stratified)\n",
    "print('\\nMaximum Accuracy that can be obtained from this model is:',\n",
    "      max(lst_accu_stratified)*100, '%')\n",
    "print('\\nMinimum Accuracy:',\n",
    "      min(lst_accu_stratified)*100, '%')\n",
    "print('\\nOverall Accuracy:',\n",
    "      mean(lst_accu_stratified)*100, '%')\n",
    "print('\\nStandard Deviation is:', stdev(lst_accu_stratified))"
   ]
  },
  {
   "cell_type": "code",
   "execution_count": 26,
   "id": "8dbbb7ee",
   "metadata": {},
   "outputs": [
    {
     "name": "stdout",
     "output_type": "stream",
     "text": [
      "['x4' 'x7' 'x11']\n",
      "[False False False False  True False False  True False False False  True]\n"
     ]
    },
    {
     "data": {
      "text/plain": [
       "(299, 3)"
      ]
     },
     "execution_count": 26,
     "metadata": {},
     "output_type": "execute_result"
    }
   ],
   "source": [
    "#Printing Best Features\n",
    "selector = SelectKBest(f_classif, k = 3)\n",
    "x_new = selector.fit_transform(x, y)\n",
    "names = selector.get_feature_names_out()\n",
    "names_1 = selector.get_support()\n",
    "print(names)\n",
    "print(names_1)\n",
    "x_new.shape"
   ]
  },
  {
   "cell_type": "markdown",
   "id": "809f9d2e",
   "metadata": {},
   "source": [
    "# K-Nearest Neighbors"
   ]
  },
  {
   "cell_type": "code",
   "execution_count": 28,
   "id": "e51229d9",
   "metadata": {},
   "outputs": [
    {
     "data": {
      "text/plain": [
       "(<Figure size 864x576 with 1 Axes>,\n",
       " <AxesSubplot:xlabel='predicted label', ylabel='true label'>)"
      ]
     },
     "execution_count": 28,
     "metadata": {},
     "output_type": "execute_result"
    },
    {
     "data": {
      "text/plain": [
       "<Figure size 432x288 with 0 Axes>"
      ]
     },
     "metadata": {},
     "output_type": "display_data"
    },
    {
     "data": {
      "image/png": "[encoded data removed]",
      "text/plain": [
       "<Figure size 864x576 with 1 Axes>"
      ]
     },
     "metadata": {},
     "output_type": "display_data"
    }
   ],
   "source": [
    "#Driver code: We perform cross validation, and print the confusion matrix\n",
    "lst_accu_stratified = []\n",
    "cm_sum = []\n",
    "StratifiedKFold(n_splits=5, random_state=1, shuffle=True)\n",
    "for train_index, test_index in skf.split(x, y):\n",
    "  x_train, x_test = x_scaled[train_index], x_scaled[test_index]\n",
    "  y_train, y_test = y[train_index], y[test_index]\n",
    "  neigh = KNeighborsClassifier(n_neighbors=3)\n",
    "  neigh.fit(x_train, y_train)\n",
    "  target_prediction = neigh.predict(x_test)\n",
    "  lst_accu_stratified.append(neigh.score(x_test, y_test))\n",
    "  cm = confusion_matrix(y_test, target_prediction)\n",
    "  cm_sum.append(cm)\n",
    "m = sum(cm_sum)\n",
    "plt.figure()\n",
    "plot_confusion_matrix(m, figsize=(12,8), hide_ticks=True, cmap=plt.cm.Reds)"
   ]
  },
  {
   "cell_type": "code",
   "execution_count": 29,
   "id": "42e8f843",
   "metadata": {},
   "outputs": [
    {
     "name": "stdout",
     "output_type": "stream",
     "text": [
      "List of possible accuracies: [0.6, 0.7333333333333333, 0.7333333333333333, 0.7166666666666667, 0.6779661016949152]\n",
      "\n",
      "Maximum Accuracy that can be obtained from this model is: 73.33333333333333 %\n",
      "\n",
      "Minimum Accuracy: 60.0 %\n",
      "\n",
      "Overall Accuracy: 69.22598870056497 %\n",
      "\n",
      "Standard Deviation is: 0.0563159522886106\n"
     ]
    }
   ],
   "source": [
    "print('List of possible accuracies:', lst_accu_stratified)\n",
    "print('\\nMaximum Accuracy that can be obtained from this model is:',\n",
    "      max(lst_accu_stratified)*100, '%')\n",
    "print('\\nMinimum Accuracy:',\n",
    "      min(lst_accu_stratified)*100, '%')\n",
    "print('\\nOverall Accuracy:',\n",
    "      mean(lst_accu_stratified)*100, '%')\n",
    "print('\\nStandard Deviation is:', stdev(lst_accu_stratified))"
   ]
  },
  {
   "cell_type": "code",
   "execution_count": 30,
   "id": "d7b2c10a",
   "metadata": {},
   "outputs": [
    {
     "name": "stdout",
     "output_type": "stream",
     "text": [
      "['x4' 'x7' 'x11']\n",
      "[False False False False  True False False  True False False False  True]\n"
     ]
    },
    {
     "data": {
      "text/plain": [
       "(299, 3)"
      ]
     },
     "execution_count": 30,
     "metadata": {},
     "output_type": "execute_result"
    }
   ],
   "source": [
    "#Printing Best Features\n",
    "selector = SelectKBest(f_classif, k = 3)\n",
    "x_new = selector.fit_transform(x, y)\n",
    "names = selector.get_feature_names_out()\n",
    "names_1 = selector.get_support()\n",
    "print(names)\n",
    "print(names_1)\n",
    "x_new.shape"
   ]
  },
  {
   "cell_type": "markdown",
   "id": "e9c63a25",
   "metadata": {},
   "source": [
    "# Adaptive Boosting"
   ]
  },
  {
   "cell_type": "code",
   "execution_count": 32,
   "id": "44228ac3",
   "metadata": {},
   "outputs": [
    {
     "data": {
      "text/plain": [
       "(<Figure size 864x576 with 1 Axes>,\n",
       " <AxesSubplot:xlabel='predicted label', ylabel='true label'>)"
      ]
     },
     "execution_count": 32,
     "metadata": {},
     "output_type": "execute_result"
    },
    {
     "data": {
      "text/plain": [
       "<Figure size 432x288 with 0 Axes>"
      ]
     },
     "metadata": {},
     "output_type": "display_data"
    },
    {
     "data": {
      "image/png": "[encoded data removed]",
      "text/plain": [
       "<Figure size 864x576 with 1 Axes>"
      ]
     },
     "metadata": {},
     "output_type": "display_data"
    }
   ],
   "source": [
    "#Driver code: We perform cross validation, and print the confusion matrix\n",
    "lst_accu_stratified = []\n",
    "cm_sum = []\n",
    "StratifiedKFold(n_splits=5, random_state=1, shuffle=True)\n",
    "for train_index, test_index in skf.split(x, y):\n",
    "  x_train, x_test = x_scaled[train_index], x_scaled[test_index]\n",
    "  y_train, y_test = y[train_index], y[test_index]\n",
    "  clf = AdaBoostClassifier(n_estimators=100, random_state=0)\n",
    "  clf.fit(x_train, y_train)\n",
    "  target_prediction = clf.predict(x_test)\n",
    "  lst_accu_stratified.append(clf.score(x_test, y_test))\n",
    "  cm = confusion_matrix(y_test, target_prediction)\n",
    "  cm_sum.append(cm)\n",
    "m = sum(cm_sum)\n",
    "plt.figure()\n",
    "plot_confusion_matrix(m, figsize=(12,8), hide_ticks=True, cmap=plt.cm.Reds)"
   ]
  },
  {
   "cell_type": "code",
   "execution_count": 33,
   "id": "8c980371",
   "metadata": {},
   "outputs": [
    {
     "name": "stdout",
     "output_type": "stream",
     "text": [
      "List of possible accuracies: [0.43333333333333335, 0.6, 0.6166666666666667, 0.55, 0.6610169491525424]\n",
      "\n",
      "Maximum Accuracy that can be obtained from this model is: 66.10169491525424 %\n",
      "\n",
      "Minimum Accuracy: 43.333333333333336 %\n",
      "\n",
      "Overall Accuracy: 57.220338983050844 %\n",
      "\n",
      "Standard Deviation is: 0.08720000853621819\n"
     ]
    }
   ],
   "source": [
    "print('List of possible accuracies:', lst_accu_stratified)\n",
    "print('\\nMaximum Accuracy that can be obtained from this model is:',\n",
    "      max(lst_accu_stratified)*100, '%')\n",
    "print('\\nMinimum Accuracy:',\n",
    "      min(lst_accu_stratified)*100, '%')\n",
    "print('\\nOverall Accuracy:',\n",
    "      mean(lst_accu_stratified)*100, '%')\n",
    "print('\\nStandard Deviation is:', stdev(lst_accu_stratified))"
   ]
  },
  {
   "cell_type": "code",
   "execution_count": 34,
   "id": "cebea31b",
   "metadata": {},
   "outputs": [
    {
     "name": "stdout",
     "output_type": "stream",
     "text": [
      "['x4' 'x7' 'x11']\n",
      "[False False False False  True False False  True False False False  True]\n"
     ]
    },
    {
     "data": {
      "text/plain": [
       "(299, 3)"
      ]
     },
     "execution_count": 34,
     "metadata": {},
     "output_type": "execute_result"
    }
   ],
   "source": [
    "#Printing Best Features\n",
    "selector = SelectKBest(f_classif, k = 3)\n",
    "x_new = selector.fit_transform(x, y)\n",
    "names = selector.get_feature_names_out()\n",
    "names_1 = selector.get_support()\n",
    "print(names)\n",
    "print(names_1)\n",
    "x_new.shape"
   ]
  }
 ],
 "metadata": {
  "kernelspec": {
   "display_name": "Python 3 (ipykernel)",
   "language": "python",
   "name": "python3"
  },
  "language_info": {
   "codemirror_mode": {
    "name": "ipython",
    "version": 3
   },
   "file_extension": ".py",
   "mimetype": "text/x-python",
   "name": "python",
   "nbconvert_exporter": "python",
   "pygments_lexer": "ipython3",
   "version": "3.9.12"
  }
 },
 "nbformat": 4,
 "nbformat_minor": 5
}
